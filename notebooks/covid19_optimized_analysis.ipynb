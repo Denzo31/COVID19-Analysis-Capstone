{
  "cells": [
    {
      "cell_type": "code",
      "execution_count": null,
      "metadata": {
        "vscode": {
          "languageId": "plaintext"
        }
      },
      "outputs": [],
      "source": [
        "# COVID-19 Global Data Analysis - Optimized Version\n",
        "\n",
        "**Course**: INSY 8413 | Introduction to Big Data Analytics  \n",
        "**Project**: Capstone Final Exam - COVID-19 Analysis  \n",
        "**Dataset**: WHO COVID-19 Global Daily Data (400k+ rows)  \n",
        "**Academic Year**: 2024-2025, SEM III\n",
        "\n",
        "---\n",
        "\n",
        "## 🚀 Optimized Analysis for Large Dataset\n",
        "\n",
        "This notebook provides an optimized approach to analyze the large COVID-19 dataset efficiently:\n",
        "- **Memory optimization** for 21MB dataset (400k+ rows)\n",
        "- **Chunked processing** to prevent memory issues\n",
        "- **Strategic sampling** for faster analysis\n",
        "- **Efficient feature engineering** to handle large data\n",
        "\n",
        "---\n"
      ]
    },
    {
      "cell_type": "code",
      "execution_count": null,
      "metadata": {
        "vscode": {
          "languageId": "plaintext"
        }
      },
      "outputs": [],
      "source": [
        "## 📚 1. Setup and Library Imports\n"
      ]
    },
    {
      "cell_type": "code",
      "execution_count": null,
      "metadata": {},
      "outputs": [],
      "source": [
        "# Core Libraries\n",
        "import pandas as pd\n",
        "import numpy as np\n",
        "import warnings\n",
        "import os\n",
        "import sys\n",
        "from pathlib import Path\n",
        "warnings.filterwarnings('ignore')\n",
        "\n",
        "# Add project root to path\n",
        "project_root = Path().absolute().parent\n",
        "sys.path.append(str(project_root))\n",
        "\n",
        "# Visualization Libraries\n",
        "import matplotlib.pyplot as plt\n",
        "import seaborn as sns\n",
        "\n",
        "# Try to import Plotly (handle if not available)\n",
        "try:\n",
        "    import plotly.express as px\n",
        "    import plotly.graph_objects as go\n",
        "    from plotly.subplots import make_subplots\n",
        "    PLOTLY_AVAILABLE = True\n",
        "    print(\"✅ Plotly imported successfully\")\n",
        "except ImportError:\n",
        "    PLOTLY_AVAILABLE = False\n",
        "    print(\"⚠️ Plotly not available, using matplotlib/seaborn only\")\n",
        "\n",
        "# Machine Learning Libraries\n",
        "from sklearn.model_selection import train_test_split\n",
        "from sklearn.preprocessing import StandardScaler, LabelEncoder\n",
        "from sklearn.ensemble import RandomForestRegressor, RandomForestClassifier\n",
        "from sklearn.cluster import KMeans\n",
        "from sklearn.metrics import mean_squared_error, r2_score, silhouette_score\n",
        "from sklearn.metrics import accuracy_score, precision_score, recall_score, f1_score\n",
        "\n",
        "# Time and date handling\n",
        "from datetime import datetime, timedelta\n",
        "\n",
        "# Import optimized preprocessing functions\n",
        "try:\n",
        "    from src.optimized_preprocessing import (\n",
        "        load_covid_data_optimized,\n",
        "        clean_data_optimized,\n",
        "        create_features_optimized,\n",
        "        prepare_modeling_data_optimized,\n",
        "        save_processed_data\n",
        "    )\n",
        "    print(\"✅ Optimized preprocessing functions imported\")\n",
        "except ImportError:\n",
        "    print(\"⚠️ Could not import optimized functions, will use basic approach\")\n",
        "\n",
        "# Configure plotting\n",
        "plt.style.use('default')\n",
        "sns.set_palette(\"husl\")\n",
        "plt.rcParams['figure.figsize'] = (12, 8)\n",
        "plt.rcParams['font.size'] = 10\n",
        "\n",
        "print(\"\\n🎯 OPTIMIZED COVID-19 ANALYSIS SETUP COMPLETE\")\n",
        "print(\"=\" * 60)\n",
        "print(f\"📊 Pandas version: {pd.__version__}\")\n",
        "print(f\"🔢 NumPy version: {np.__version__}\")\n",
        "print(f\"📈 Matplotlib available: {plt.__version__}\")\n",
        "print(f\"🎨 Seaborn available: {sns.__version__}\")\n",
        "print(f\"📊 Plotly available: {PLOTLY_AVAILABLE}\")\n",
        "print(f\"🤖 Scikit-learn available: sklearn imported successfully\")\n"
      ]
    }
  ],
  "metadata": {
    "language_info": {
      "name": "python"
    }
  },
  "nbformat": 4,
  "nbformat_minor": 2
}
